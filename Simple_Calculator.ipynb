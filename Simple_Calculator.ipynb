{
  "nbformat": 4,
  "nbformat_minor": 0,
  "metadata": {
    "colab": {
      "provenance": [],
      "authorship_tag": "ABX9TyNe4PhxM7QJrWevNiGT4CgG",
      "include_colab_link": true
    },
    "kernelspec": {
      "name": "python3",
      "display_name": "Python 3"
    },
    "language_info": {
      "name": "python"
    }
  },
  "cells": [
    {
      "cell_type": "markdown",
      "metadata": {
        "id": "view-in-github",
        "colab_type": "text"
      },
      "source": [
        "<a href=\"https://colab.research.google.com/github/KusaLLL/Simple-Calculator/blob/main/Simple_Calculator.ipynb\" target=\"_parent\"><img src=\"https://colab.research.google.com/assets/colab-badge.svg\" alt=\"Open In Colab\"/></a>"
      ]
    },
    {
      "cell_type": "code",
      "source": [
        "n1 = float(input(\"input your first number :\"))\n",
        "n2 = float(input(\"input your second number : \"))\n",
        "\n",
        "print()\n",
        "\n",
        "#now lets print our function\n",
        "\n",
        "f1 = n1*n2\n",
        "f2 = n1/n2\n",
        "f3 = n1-n2\n",
        "f4 = n1+n2\n",
        "\n",
        "print(\"f1 for multiplication\")\n",
        "print(\"f2 for devision\")\n",
        "print(\"f3 for substraction\")\n",
        "print(\"f4 for addition\")\n",
        "\n",
        "print()\n",
        "\n",
        "c = (input(\"enter the function you want to procceed : (f1/f2/f3/f4)\"))\n",
        "\n",
        "#now lets create the loop\n",
        "print()\n",
        "\n",
        "if c == 'f1':\n",
        "    print(f1)\n",
        "elif c == 'f2':\n",
        "    print(f2)\n",
        "elif c == 'f3':\n",
        "    print(f3)\n",
        "elif c == 'f4':\n",
        "    print(f4)\n",
        "else:\n",
        "    print(\"invalid input\")\n",
        "\n",
        "print()\n",
        "print(\"thanks for using my calculator !\")\n",
        "\n"
      ],
      "metadata": {
        "colab": {
          "base_uri": "https://localhost:8080/"
        },
        "id": "BS6W-yZf0qPH",
        "outputId": "66c5f9fa-eb6f-4a89-e69d-413b066ec650"
      },
      "execution_count": 16,
      "outputs": [
        {
          "output_type": "stream",
          "name": "stdout",
          "text": [
            "input your first number :11\n",
            "input your second number : 22\n",
            "\n",
            "f1 for multiplication\n",
            "f2 for devision\n",
            "f3 for substraction\n",
            "f4 for addition\n",
            "\n",
            "enter the function you want to procceed : (f1/f2/f3/f4)f4\n",
            "\n",
            "33.0\n",
            "\n",
            "thanks for using my calculator !\n"
          ]
        }
      ]
    }
  ]
}